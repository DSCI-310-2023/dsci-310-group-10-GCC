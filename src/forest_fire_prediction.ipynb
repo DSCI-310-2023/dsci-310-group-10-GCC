{
 "cells": [
  {
   "cell_type": "markdown",
   "metadata": {},
   "source": [
    "<h3> Predicting Forest Fires in Algeria</h3>"
   ]
  },
  {
   "cell_type": "markdown",
   "metadata": {},
   "source": [
    "Forest fires are a type of  uncontrolled and unwanted fire that usually have a negative impact. In 2007, forest fires in the Atlas Mountains, located on the northern coast of Algeria, killed several people as it spread rapidly due to hot, dry winds [3]. \n",
    "\n",
    "In this project, the main question which we want to answer is:\n",
    "- Can we predict forest fires given the weather conditions by using $k$ nearest neighbours? \n",
    "\n",
    "\n",
    "Our dataset contains weather information on the Sidi Bel Abbès and the Bejaia region, and includes information such as :\n",
    "- `day`,`month`,`year`: the date of the instance\n",
    "- `Temperature`: the maximum temperature in degrees celsius\n",
    "- `RH` : Relative humidity in percentages\n",
    "- `Ws` : wind speed in kilometers per hour\n",
    "- `Rain`: total amount of rain, in mm\n",
    "- `Classes` : whether or not there was fire\n",
    "\n",
    "\n",
    "The data set also includes indexes:\n",
    "- `FFMC`: Fine Fuel Moisture Code\n",
    "- `DMC` : Dull Moisture Code\n",
    "- `DC`: Drought Code \n",
    "- `ISI`: Initial Spread Index\n",
    "- `BUI`: Buildup Index\n",
    "- `FWI`: Fire Weather Index\n",
    "\n",
    "For more information on FWI, you can look at [this website](https://cwfis.cfs.nrcan.gc.ca/background/summary/fwi)."
   ]
  },
  {
   "cell_type": "markdown",
   "metadata": {},
   "source": [
    "First, we load the necessary libraries:"
   ]
  },
  {
   "cell_type": "code",
   "execution_count": 10,
   "metadata": {
    "vscode": {
     "languageId": "r"
    }
   },
   "outputs": [],
   "source": [
    "library(tidyverse)\n",
    "library(GGally)\n",
    "library(tidymodels)\n",
    "library(here)\n",
    "library(testthat)\n",
    "\n",
    "options(repr.matrix.max.rows = 6)\n",
    "\n",
    "set.seed(123)"
   ]
  },
  {
   "cell_type": "markdown",
   "metadata": {},
   "source": [
    "Now we need to load external code files:"
   ]
  },
  {
   "cell_type": "markdown",
   "metadata": {},
   "source": [
    "Checking all the modular tests work well here."
   ]
  },
  {
   "cell_type": "markdown",
   "metadata": {},
   "source": [
    "Issue: Originally we want to create a test folder, and move our test files in it, as well as renaming them.\n",
    "       We wanted to remove the leading numbers because it doesn't really abide by the standard naming format.\n",
    "       However we ran into the issue that the source method cannot find the file after renaming it.\n",
    "       Even though the files existed and the files' paths are typed out correctly, it still tried to find the files that were originally named like \n",
    "       (with leading numbers' version).\n",
    "       That's the reason we kept the naming format as this, even though this is not what we intended to do.\n",
    "       \n",
    "\n",
    "       **For this case, you can pretend that test cases are not named with leading numbers \n",
    "       and placed in a test folder under the directory:\n",
    "       \"tests/testthat\", \n",
    "       and the test names start with \"test-\".\n",
    "       Thus we cannot run this command \"testthat::test_dir(\"tests/testthat\")\" either, as we can't rename and move the files.**"
   ]
  },
  {
   "cell_type": "code",
   "execution_count": 11,
   "metadata": {
    "vscode": {
     "languageId": "r"
    }
   },
   "outputs": [],
   "source": [
    "source(here(\"src/R/convert_to_num.R\"))\n",
    "source(here(\"src/R/df_load.R\"))\n",
    "source(here(\"src/R/plot_fn.R\"))\n",
    "source(here(\"src/R/fire_training_fn.R\"))"
   ]
  },
  {
   "cell_type": "markdown",
   "metadata": {},
   "source": [
    "## Package Version Checking ##\n",
    "Here are the following versions you should have:\n",
    "- tidyverse: 1.3.2\n",
    "- GGally: 2.1.2\n",
    "- tidymodels: 1.0.0\n",
    "- here: 1.0.1\n",
    "- testthat: 3.1.6"
   ]
  },
  {
   "cell_type": "code",
   "execution_count": 12,
   "metadata": {
    "vscode": {
     "languageId": "r"
    }
   },
   "outputs": [
    {
     "data": {
      "text/plain": [
       "[1] ‘2.0.0’"
      ]
     },
     "metadata": {},
     "output_type": "display_data"
    },
    {
     "data": {
      "text/plain": [
       "[1] ‘2.1.2’"
      ]
     },
     "metadata": {},
     "output_type": "display_data"
    },
    {
     "data": {
      "text/plain": [
       "[1] ‘1.0.0’"
      ]
     },
     "metadata": {},
     "output_type": "display_data"
    },
    {
     "data": {
      "text/plain": [
       "[1] ‘1.0.1’"
      ]
     },
     "metadata": {},
     "output_type": "display_data"
    },
    {
     "data": {
      "text/plain": [
       "[1] ‘3.1.6’"
      ]
     },
     "metadata": {},
     "output_type": "display_data"
    },
    {
     "data": {
      "text/plain": [
       "[1] ‘1.3.1’"
      ]
     },
     "metadata": {},
     "output_type": "display_data"
    }
   ],
   "source": [
    "packageVersion(\"tidyverse\")\n",
    "packageVersion(\"GGally\")\n",
    "packageVersion(\"tidymodels\")\n",
    "packageVersion(\"here\")\n",
    "packageVersion(\"testthat\")\n",
    "packageVersion(\"kknn\")"
   ]
  },
  {
   "cell_type": "markdown",
   "metadata": {},
   "source": [
    "### 1. Loading and wrangling the dataset"
   ]
  },
  {
   "cell_type": "markdown",
   "metadata": {},
   "source": [
    "The first thing we do is to look at the dataset online, to see what it looks like. At first glance, we can see that this dataset contains headings, and uses commas as a delimiter. Moreover, it seems like each region is stored in a \"separate\" table on the same dataset. This means that we will need to do some cleaning after we load it to our notebook. \n",
    "\n",
    "After inspecting the dataset, we take the data set's url from \n",
    "[this website](https://archive.ics.uci.edu/ml/datasets/Algerian+Forest+Fires+Dataset++) and load it to our notebook.\n",
    "\n",
    "The dataset has one table for each region, so we make 2 datasets:"
   ]
  },
  {
   "cell_type": "code",
   "execution_count": 13,
   "metadata": {
    "vscode": {
     "languageId": "r"
    }
   },
   "outputs": [
    {
     "ename": "ERROR",
     "evalue": "Error in df_load(url = \"data/Algerian_forest_fires_dataset_UPDATE.csv\", : `skip1`, `skip2`, `n_max1`, `n_max2`, `error_line` and `correct_bef_error_record` should be integers\n",
     "output_type": "error",
     "traceback": [
      "Error in df_load(url = \"data/Algerian_forest_fires_dataset_UPDATE.csv\", : `skip1`, `skip2`, `n_max1`, `n_max2`, `error_line` and `correct_bef_error_record` should be integers\nTraceback:\n",
      "1. df_load(url = \"data/Algerian_forest_fires_dataset_UPDATE.csv\", \n .     skip1 = 1, skip2 = 126, n_max1 = 122, n_max2 = Inf, error_line = 44, \n .     error_record = 10:14, correct_bef_error_record = 9, val_corrected = list(\"14.6\", \n .         9, 12.5, \"10.4\", \"fire\"), error_col = c(\"DC\", \"FWI\"), \n .     predicted_factor = \"Classes\")",
      "2. stop(\"`skip1`, `skip2`, `n_max1`, `n_max2`, `error_line` and `correct_bef_error_record` should be integers\")"
     ]
    }
   ],
   "source": [
    "forest_fires <- df_load(url = \"data/Algerian_forest_fires_dataset_UPDATE.csv\",\n",
    "                          skip1 = 1,\n",
    "                          skip2 = 126,\n",
    "                          n_max1 = 122,\n",
    "                          n_max2 = Inf,\n",
    "                          error_line = 44,\n",
    "                          error_record = 10:14,\n",
    "                          correct_bef_error_record = 9,\n",
    "                          val_corrected = list(\"14.6\",9,12.5,\"10.4\",\"fire\"),\n",
    "                          error_col = c(\"DC\", \"FWI\"),\n",
    "                          predicted_factor = \"Classes\")\n",
    "\n",
    "head(forest_fires)"
   ]
  },
  {
   "cell_type": "markdown",
   "metadata": {},
   "source": [
    "### 2. Exploring the dataset"
   ]
  },
  {
   "cell_type": "markdown",
   "metadata": {},
   "source": [
    "Usually, we do the preliminary exploratory data analysis with only the training set, so we need to split the `forest_fires` data set into a training and testing set first. Because our dataset is quite small, we decided to have more observations in the training set.|"
   ]
  },
  {
   "cell_type": "code",
   "execution_count": null,
   "metadata": {
    "vscode": {
     "languageId": "r"
    }
   },
   "outputs": [],
   "source": [
    "set.seed(123)\n",
    "#We don't want the date columns: our explanation will be given later!\n",
    "forest_fires <- forest_fires %>%\n",
    "    select(Temperature:Classes)\n",
    "\n",
    "# we'll take 75% of the observations and place it on the training set,\n",
    "#    we use the prop = 0.75 argument to do this\n",
    "# we also use the strata argument to set which column will be the prediction variable.\n",
    "\n",
    "fire_split <- initial_split(forest_fires, prop = 0.75, strata = Classes)\n",
    "fire_train <- training(fire_split)\n",
    "fire_test <- testing(fire_split)"
   ]
  },
  {
   "cell_type": "code",
   "execution_count": null,
   "metadata": {
    "vscode": {
     "languageId": "r"
    }
   },
   "outputs": [],
   "source": [
    "# as you can see, the number of observations/rows in the training is \n",
    "#    0.754 of the forest_fires set\n",
    "nrow(fire_train)/nrow(forest_fires)"
   ]
  },
  {
   "cell_type": "markdown",
   "metadata": {},
   "source": [
    "After making the training set, now we can start exploring the data and decide what predictors to use. Becase everything was recorded in 2012, so we don't want to use `day`, `month` and `year`. We removed these columns right before we split the data into the training and testing. Next, we want to try and summarise the data in different ways:"
   ]
  },
  {
   "cell_type": "code",
   "execution_count": null,
   "metadata": {
    "vscode": {
     "languageId": "r"
    }
   },
   "outputs": [],
   "source": [
    "#this tells us how many entries are on each factor in Classes\n",
    "\n",
    "fire_training_count <- fire_train %>%\n",
    "    group_by(Classes) %>%\n",
    "    summarise(n = n())\n",
    "\n",
    "fire_training_count"
   ]
  },
  {
   "cell_type": "markdown",
   "metadata": {},
   "source": [
    "###### table 2.1"
   ]
  },
  {
   "cell_type": "markdown",
   "metadata": {},
   "source": [
    "From this, we know that there is a pretty equal distribution of observations between the two classes. This is a good thing, because it means we don't need any additional steps such as repeating the observations from the class with less observations."
   ]
  },
  {
   "cell_type": "code",
   "execution_count": null,
   "metadata": {
    "vscode": {
     "languageId": "r"
    }
   },
   "outputs": [],
   "source": [
    "# we calculate some important values: \n",
    "fire_training_range_fire <- fire_training_fn(\"fire\", range)\n",
    "fire_training_range_not_fire <- fire_training_fn(\"not fire\", range)\n",
    "\n",
    "#this shows the average values of the numerical columns when there is fire\n",
    "fire_training_mean_fire <- fire_training_fn(\"fire\", mean)\n",
    "fire_training_mean_not_fire <- fire_training_fn(\"not fire\", mean)"
   ]
  },
  {
   "cell_type": "code",
   "execution_count": null,
   "metadata": {
    "vscode": {
     "languageId": "r"
    }
   },
   "outputs": [],
   "source": [
    "#now, we look at the range of values:\n",
    "fire_training_range_fire\n",
    "fire_training_range_not_fire"
   ]
  },
  {
   "cell_type": "markdown",
   "metadata": {},
   "source": [
    "###### <center>table 2.2.1 and table 2.2.2, showing the range of values for both fire and not fire classes</center>"
   ]
  },
  {
   "cell_type": "code",
   "execution_count": null,
   "metadata": {
    "vscode": {
     "languageId": "r"
    }
   },
   "outputs": [],
   "source": [
    "# we also want to look at the average values:\n",
    "fire_training_mean_fire\n",
    "fire_training_mean_not_fire"
   ]
  },
  {
   "cell_type": "markdown",
   "metadata": {},
   "source": [
    "###### <center>table 2.2.3 and table 2.2.4, showing the mean for both fire and not fire classes</center>"
   ]
  },
  {
   "cell_type": "markdown",
   "metadata": {},
   "source": [
    "We can see from table 2.2.1 and 2.2.2 that the range of values for `Ws` is really similar, which is 8-21 and 10-22. Their averages are also really similar, which is 15.42 and 15.725. \n",
    "\n",
    "This means that there isn't a clear distinction between the range of values from different `Classes`- and this also means that their averages are too similar. We don't want to use columns like this, because it's probably not going to be useful in differentiating the `Classes`. Another column we might not want to use is`RH`."
   ]
  },
  {
   "cell_type": "markdown",
   "metadata": {},
   "source": [
    "Because it's easier to process visual information, we draw some plots:"
   ]
  },
  {
   "cell_type": "code",
   "execution_count": null,
   "metadata": {
    "vscode": {
     "languageId": "r"
    }
   },
   "outputs": [],
   "source": [
    "#resize so we can see the plots\n",
    "options(repr.plot.width=20, repr.plot.height=20)\n",
    "#ggpairs was used to do look at our preliminary data analysis, so we can see the general picture\n",
    "#we add the color argument so we can compare the relationship between the 2 columns and the classes column\n",
    "fire_train %>% \n",
    "    ggpairs(aes(color = Classes))"
   ]
  },
  {
   "cell_type": "markdown",
   "metadata": {},
   "source": [
    " ###### <center> fig 2.3 the relationships between 2 columns in the training set</center>"
   ]
  },
  {
   "cell_type": "markdown",
   "metadata": {},
   "source": [
    "As we can see from this plot, our previous conclusion that values like `Ws` won't be a good choice can be seen by how both rain and not rain `Ws` values overlap - we can't \"group\" the values into groups of rain/ not rain. "
   ]
  },
  {
   "cell_type": "markdown",
   "metadata": {},
   "source": [
    "Based on prior research on FWI indexes[1], we know that they're all calculated based on temperature, relative humidity, wind and rain, which are the `Temperature`,`RH`,`Ws`, and`Rain` columns. Additionally, We also know that `ISI` is calculated from Ws and FFMC, and `BUI` is calculated from DMC and DC. These 2 columns encompass information from other columns, so it seems reasonable that we use them to predict `Classes`. \n",
    "\n",
    "To confirm our choice, we make a plot with `ISI`, `BUI` and `Classes` to see if this choice makes sense based on the actual data itself."
   ]
  },
  {
   "cell_type": "code",
   "execution_count": null,
   "metadata": {
    "vscode": {
     "languageId": "r"
    }
   },
   "outputs": [],
   "source": [
    "plot_scatter_graph(data=fire_train, plot_width=8.9, plot_height=6, x_axis_data=ISI, \n",
    "                               y_axis_data=BUI, x_axis_label=\"Initial Spread Index\", y_axis_label=\"presence of fire\", \n",
    "                               text_size=20, color=Classes, color_label=\"presence of fire\")"
   ]
  },
  {
   "cell_type": "markdown",
   "metadata": {},
   "source": [
    "######  fig 2.4 ISI and BUI"
   ]
  },
  {
   "cell_type": "markdown",
   "metadata": {},
   "source": [
    "There is a positive correlation between `ISI` and `BUI`, and there seems to be a distinction between the `Classes`! so `ISI` and `BUI` seems like a reasonable choice. Moreover, because we are only using 2 predictors, it'll be easier to make a visualization of our results. \n"
   ]
  },
  {
   "cell_type": "markdown",
   "metadata": {},
   "source": [
    "Now that we know which predictors to use, we can start making our model."
   ]
  },
  {
   "cell_type": "markdown",
   "metadata": {},
   "source": [
    "### 3. Performing the data analysis"
   ]
  },
  {
   "cell_type": "markdown",
   "metadata": {},
   "source": [
    "Because we are trying to predict `Classes`, which is a categorical variable, with `ISI` AND `BUI`, which are quantitative variables, this is a classification problem. So, we can make a k-nearest classification model, using the  functions from `tidymodels` to help us. Before we can make the model, we need to choose a $k$ value that works. So, we need to tune the classifier.\n",
    "<br>\n",
    "The steps are as follows:\n",
    "1. we make a 10-fold cross validation, to generate the testing and validation sets.\n",
    "    - because our dataset is relatively small, we decided to use 10-fold instead of 5 fold to compensate for the fewer observations.\n",
    "2. make the recipe, using `Classes` as the target variable and `ISI` and `BUI` as the predictor variables, using data from the training set.\n",
    "3. then, we make a model specification with the `nearest_neighbor` function, setting the neighbors to `tune()`.\n",
    "4. we add this recipe and model to a `workflow()`, using `collect_metrics()` to get the accuracies of each $k$ value.\n",
    "\n"
   ]
  },
  {
   "cell_type": "code",
   "execution_count": null,
   "metadata": {
    "vscode": {
     "languageId": "r"
    }
   },
   "outputs": [],
   "source": [
    "set.seed(123)\n",
    "# making the 10-fold cross validation, \n",
    "#    setting the strata (predicted variable) as Classes\n",
    "fire_vfold <- vfold_cv(fire_train, v = 10, strata = Classes)\n",
    "\n",
    "# making the recipe, taking the data from the training set and ISI and BUI as the variables we use to predict\n",
    "# note: we will reuse this recipe later\n",
    "fire_recipe <- recipe(Classes ~ ISI + BUI, data = fire_train) %>%\n",
    "  step_scale(all_predictors()) %>%\n",
    "  step_center(all_predictors())\n",
    "\n",
    "#making the model specification for tuning, setting weight_func to rectangular so that \n",
    "#each neighbor has equal \"say\" and neighbors to tune().\n",
    "knn_tune <- nearest_neighbor(weight_func = \"rectangular\", neighbors = tune()) %>%\n",
    "  set_engine(\"kknn\") %>%\n",
    "  set_mode(\"classification\")\n",
    "\n",
    "# k_lots is used to decide the k values we will \"try\" and check the accuracies for\n",
    "k_lots <- tibble(neighbors = seq(from = 1, to = 50, by = 1))\n",
    "\n",
    "# making the workflow and fitting the recipe and model, and collecting the metrics.\n",
    "knn_results <- workflow() %>%\n",
    "  add_recipe(fire_recipe) %>%\n",
    "  add_model(knn_tune) %>%\n",
    "  tune_grid(resamples = fire_vfold, grid = k_lots) %>%\n",
    "  collect_metrics()\n",
    "\n",
    "# taking only the accuracies\n",
    "accuracies <- knn_results %>%\n",
    "  filter(.metric == \"accuracy\")\n",
    "\n",
    "accuracies"
   ]
  },
  {
   "cell_type": "markdown",
   "metadata": {},
   "source": [
    "######  table 3.1 accuracies"
   ]
  },
  {
   "cell_type": "markdown",
   "metadata": {},
   "source": [
    "Now, we know how accurate our model is for different $k$ values- but since we have 50 values, it's hard to compare all 50 at once! Again, We plot the accuracies so that we can compare the accuracies between each $k$ value in a more efficient and better way. "
   ]
  },
  {
   "cell_type": "code",
   "execution_count": null,
   "metadata": {
    "vscode": {
     "languageId": "r"
    }
   },
   "outputs": [],
   "source": [
    "plot_line_graph(data=accuracies, plot_width=10, plot_height=10, x_axis_data=neighbors, \n",
    "                            y_axis_data=mean, x_axis_label=\"Neighbors\", y_axis_label=\"Accuracy Estimate\")"
   ]
  },
  {
   "cell_type": "markdown",
   "metadata": {},
   "source": [
    "######  fig 3.2"
   ]
  },
  {
   "cell_type": "markdown",
   "metadata": {},
   "source": [
    "From this graph, we can see the it peaks at about 5/6 and then starts to reduce as $k$ increases. K-nearest model gets slower with larger k values, so  we decided that k = 5 would be the most ideal choice for our model, because of its high accuracy estimate and since this estimate doesn't change much when compared to nearby k values.\n",
    "\n",
    "This graph also makes sense because we know that small K values tend to have lower accuracies due to underfitting, while large k values will also have lower accuracies due to overfitting. In this graph, accuracies initially increase, and then generally decreases as $k$ values increase."
   ]
  },
  {
   "cell_type": "markdown",
   "metadata": {},
   "source": [
    "Now that we know what k value to use, we make a new model specification, this time setting k to 5. We add this new model and the recipe to a `workflow`."
   ]
  },
  {
   "cell_type": "code",
   "execution_count": null,
   "metadata": {
    "vscode": {
     "languageId": "r"
    }
   },
   "outputs": [],
   "source": [
    "#we don't need to make a new recipe, since we can reuse the recipe from the last step.\n",
    "\n",
    "# making the model specification, this time specifying the number of neighbors we want\n",
    "knn_spec <- nearest_neighbor(weight_func = \"rectangular\", neighbors = 5) %>%\n",
    "  set_engine(\"kknn\") %>%\n",
    "  set_mode(\"classification\")\n",
    "\n",
    "# fitting the spec and recipe to the workflow\n",
    "knn_fit <- workflow() %>%\n",
    "  add_recipe(fire_recipe) %>%\n",
    "  add_model(knn_spec) %>%\n",
    "  fit(data = fire_train)\n"
   ]
  },
  {
   "cell_type": "markdown",
   "metadata": {},
   "source": [
    "Now, that we have a model, we can use it to predict the classes on our testing set!"
   ]
  },
  {
   "cell_type": "code",
   "execution_count": null,
   "metadata": {
    "vscode": {
     "languageId": "r"
    }
   },
   "outputs": [],
   "source": [
    "# we use the knn_fit to predict the class in fire_test, and then we add that .pred_class column to the testing set. \n",
    "fire_test_predictions <- predict(knn_fit, fire_test) %>%\n",
    "  bind_cols(fire_test)\n",
    "\n",
    "fire_test_predictions"
   ]
  },
  {
   "cell_type": "markdown",
   "metadata": {},
   "source": [
    "######  table 3.3 the `pred_class` column shows the class our model predicted"
   ]
  },
  {
   "cell_type": "markdown",
   "metadata": {},
   "source": [
    "To get a better picture on how well our model predicted the testing set's classes, we can get the metrics and the confusion matrix:"
   ]
  },
  {
   "cell_type": "code",
   "execution_count": null,
   "metadata": {
    "vscode": {
     "languageId": "r"
    }
   },
   "outputs": [],
   "source": [
    "# getting the confusion matrix, setting the \"real\" column to Classes and the predicted column .pred_class\n",
    "\n",
    "fire_test_predictions %>%\n",
    "  conf_mat(truth = Classes, estimate = .pred_class)"
   ]
  },
  {
   "cell_type": "markdown",
   "metadata": {},
   "source": [
    "###### fig 3.4 the confusion matrix"
   ]
  },
  {
   "cell_type": "markdown",
   "metadata": {},
   "source": [
    "From this confusion matrix, we can see that it predicted not fire correctly in 25 cases, predicted fire correctly in 32 cases and predicted incorrectly in only 3 cases. This means that the accuracy of our model might be quite high. Now, we look at the accuracy metrics using the `metrics` argument:"
   ]
  },
  {
   "cell_type": "code",
   "execution_count": null,
   "metadata": {
    "vscode": {
     "languageId": "r"
    }
   },
   "outputs": [],
   "source": [
    "# getting the metrics, setting the \"real\" column to Classes and the predicted column .pred_class\n",
    "fire_test_predictions %>%\n",
    "  metrics(truth = Classes, estimate = .pred_class) %>%\n",
    "  filter(.metric == \"accuracy\")"
   ]
  },
  {
   "cell_type": "markdown",
   "metadata": {},
   "source": [
    "###### table 3.5, showing the accuracy of our model"
   ]
  },
  {
   "cell_type": "markdown",
   "metadata": {},
   "source": [
    "It turns out our accuracy is 95%! This is pretty high, so we can be quite confident that our model will predict if there are forest fires quite accurately. "
   ]
  },
  {
   "cell_type": "markdown",
   "metadata": {},
   "source": [
    "Finally, we create graph to show the predicted classes (the colored background) and the actual class."
   ]
  },
  {
   "cell_type": "code",
   "execution_count": null,
   "metadata": {
    "vscode": {
     "languageId": "r"
    }
   },
   "outputs": [],
   "source": [
    "options(repr.plot.width=8, repr.plot.height=8)\n",
    "cbPalette <- c(\"#E69F00\", \"#56B4E9\", \"#009E73\", \"#F0E442\", \"#0072B2\", \"#D55E00\", \"#CC79A7\", \"#999999\")\n",
    "\n",
    "# create the grid of area/smoothness vals, and arrange in a data frame\n",
    "# forest_fires$BUI means forest_fire df, BUI column\n",
    "\n",
    "isi_grid <- seq(min(forest_fires$ISI), max(forest_fires$ISI), length.out = 100)\n",
    "bui_grid <- seq(min(forest_fires$BUI), max(forest_fires$BUI), length.out = 100)\n",
    "asgrid <- as_tibble(expand.grid(ISI = isi_grid, BUI = bui_grid))\n",
    "\n",
    "# use the fit workflow to make predictions at the grid points\n",
    "knnPredGrid <- predict(knn_fit, asgrid)\n",
    "\n",
    "# bind the predictions as a new column with the grid points\n",
    "prediction_table <- bind_cols(knnPredGrid, asgrid) %>% rename(Classes = .pred_class)\n",
    "\n",
    "# plot a graph\n",
    "wkflw_plot <-\n",
    "  ggplot() +\n",
    "  geom_point(data = forest_fires, mapping = aes(x = ISI, y = BUI, color = Classes), alpha = 0.75) +\n",
    "  geom_point(data = prediction_table, mapping = aes(x = ISI, y = BUI, color = Classes), alpha = 0.02, size = 5.) +\n",
    "  labs(color = \"IS there fire?\") +\n",
    "  scale_color_manual(labels = c(\"Forest fire present\", \"Forest fire not present\"), values = cbPalette)\n",
    "\n",
    "wkflw_plot"
   ]
  },
  {
   "cell_type": "markdown",
   "metadata": {},
   "source": [
    "###### fig 3.6"
   ]
  },
  {
   "cell_type": "markdown",
   "metadata": {},
   "source": [
    "From this graph, we can conclude that our model works fine - almost all the predictions are accurate. The colors don't seem to look patchy, which means that we didn't underfit this model. most of the observations were predicted correctly too."
   ]
  },
  {
   "cell_type": "markdown",
   "metadata": {},
   "source": [
    "### 4. Wrapping it all up"
   ]
  },
  {
   "cell_type": "markdown",
   "metadata": {},
   "source": [
    "In this project, we made a model to predict whether or not there will be a forest fire based on information given at the time of the observation. We found that we could in fact predict the presence of fire with a high accuracy by using a k-nearest classification model and using ISI and BUI as our predictor variables. \n",
    "\n",
    "This was what we expected to find, because there had already been a strong relationship between ISI and BUI. Moreover, based on our preliminary data analysis we can already see that in both ISI and BUI, there is a somewhat clear distinction between values when there is or isn't any fire.  "
   ]
  },
  {
   "cell_type": "markdown",
   "metadata": {},
   "source": [
    "**Expected outcomes and significance:**\n",
    "\n",
    " We hope that in the future, something like this can be used to predict real fires. Predicting fire will  be beneficial because it means we can mobilise firefighters faster, which helps stop the spread of fires. Hopefully, this can also lead to other questions, such as predicting the magnitude of a fire.\n"
   ]
  },
  {
   "cell_type": "markdown",
   "metadata": {},
   "source": [
    "*Citations:*\n",
    "\n",
    "\n",
    "[1] Faroudja ABID et al. , â€œPredicting Forest Fire in Algeria using Data Mining Techniques: Case Study of the Decision Tree Algorithmâ€, International Conference on Advanced Intelligent Systems for Sustainable Development (AI2SD 2019) , 08 - 11 July , 2019, Marrakech, Morocco.\n",
    "\n",
    "\n",
    "[2]  Canadian Wildland Fire Information System | Canadian Forest Fire Weather Index (FWI) System, 2021.Retrieved 1 April 2021  from https://cwfis.cfs.nrcan.gc.ca/background/summary/fwi\n",
    "\n",
    "[3] Fires in Algeria. (2021). Retrieved 1 April 2021, from https://earthobservatory.nasa.gov/images/18959/fires-in-algeria\n",
    "\n",
    "[4] Template project used for reference in creation of this analysis: \"https://github.com/UBC-DSCI/predict-airbnb-nightly-price/tree/v1.0.2\""
   ]
  }
 ],
 "metadata": {
  "kernelspec": {
   "display_name": "R",
   "language": "R",
   "name": "ir"
  },
  "language_info": {
   "codemirror_mode": "r",
   "file_extension": ".r",
   "mimetype": "text/x-r-source",
   "name": "R",
   "pygments_lexer": "r",
   "version": "4.2.2"
  }
 },
 "nbformat": 4,
 "nbformat_minor": 4
}
